{
  "nbformat": 4,
  "nbformat_minor": 0,
  "metadata": {
    "colab": {
      "provenance": [],
      "include_colab_link": true
    },
    "kernelspec": {
      "name": "python3",
      "display_name": "Python 3"
    },
    "language_info": {
      "name": "python"
    }
  },
  "cells": [
    {
      "cell_type": "markdown",
      "metadata": {
        "id": "view-in-github",
        "colab_type": "text"
      },
      "source": [
        "<a href=\"https://colab.research.google.com/github/satyajit1288/DAA_Algorithms/blob/main/Cosine_attack_demonstration.ipynb\" target=\"_parent\"><img src=\"https://colab.research.google.com/assets/colab-badge.svg\" alt=\"Open In Colab\"/></a>"
      ]
    },
    {
      "cell_type": "markdown",
      "source": [
        "Download the BMI Dataset from Kaggle. This will Demonstrate the cosine attack using  'BMI' dataset. This data frame contains the following columns:\n",
        "\n",
        "1) Gender : Male / Female\n",
        "\n",
        "2) Height : Number (cm)\n",
        "\n",
        "3) Weight : Number (Kg)\n",
        "\n",
        "4) Index : (\n",
        "0 - Extremely Weak ,\n",
        "1 - Weak ,\n",
        "2 - Normal ,\n",
        "3 - Overweight ,\n",
        "4 - Obesity ,\n",
        "5 - Extreme Obesity )"
      ],
      "metadata": {
        "id": "3mRfjsrT4Z_v"
      }
    },
    {
      "cell_type": "code",
      "execution_count": 1,
      "metadata": {
        "id": "BN2DPVydUmgY",
        "colab": {
          "base_uri": "https://localhost:8080/"
        },
        "outputId": "3a960e81-a52e-4fbf-9d3a-ce4fbcd81c1c"
      },
      "outputs": [
        {
          "output_type": "stream",
          "name": "stderr",
          "text": [
            "/tmp/ipython-input-1655670895.py:11: DeprecationWarning: Use dataset_load() instead of load_dataset(). load_dataset() will be removed in a future version.\n",
            "  df = kagglehub.load_dataset(\n"
          ]
        },
        {
          "output_type": "stream",
          "name": "stdout",
          "text": [
            "Downloading from https://www.kaggle.com/api/v1/datasets/download/yasserh/bmidataset?dataset_version_number=1&file_name=bmi.csv...\n"
          ]
        },
        {
          "output_type": "stream",
          "name": "stderr",
          "text": [
            "100%|██████████| 8.12k/8.12k [00:00<00:00, 8.51MB/s]\n"
          ]
        }
      ],
      "source": [
        "# Install dependencies as needed:\n",
        "# pip install kagglehub[pandas-datasets]\n",
        "import kagglehub\n",
        "from kagglehub import KaggleDatasetAdapter\n",
        "\n",
        "# Set the path to the file you'd like to load\n",
        "# Based on the dataset handle, assuming a CSV file exists with a similar name.\n",
        "file_path = \"bmi.csv\" # Replace with the actual file name if different\n",
        "\n",
        "# Load the latest version\n",
        "df = kagglehub.load_dataset(\n",
        "  KaggleDatasetAdapter.PANDAS,\n",
        "  \"yasserh/bmidataset\",\n",
        "  file_path,\n",
        "  # Provide any additional arguments like\n",
        "  # sql_query or pandas_kwargs. See the\n",
        "  # documenation for more information:\n",
        "  # https://github.com/Kaggle/kagglehub/blob/main/README.md#kaggledatasetadapterpandas\n",
        ")"
      ]
    },
    {
      "cell_type": "markdown",
      "source": [
        "Get the training data only and name it as X (only Gender , Height and Weight) and Repair X such that Feature : 'Gender'  (male = 1 and female = -1)"
      ],
      "metadata": {
        "id": "LqthFNG6i7we"
      }
    },
    {
      "cell_type": "code",
      "source": [
        "# Features (training data): just Gender, Height, Weight and convert it to numpy\n",
        "import numpy as np\n",
        "X = df[['Gender', 'Height', 'Weight']].copy()\n",
        "X['Gender'] = np.where(X['Gender'].str.strip().str.lower() == 'male', 1, -1)\n",
        "\n",
        "X_new = X.to_numpy()\n"
      ],
      "metadata": {
        "id": "oZvnGqcMi6o3"
      },
      "execution_count": 2,
      "outputs": []
    },
    {
      "cell_type": "markdown",
      "source": [
        "**Phase - 1**"
      ],
      "metadata": {
        "id": "muA3o9vn6IaI"
      }
    },
    {
      "cell_type": "markdown",
      "source": [
        "**Step-1**\n",
        "\n",
        "i) select 3 buffer points as list1 (without replacement , known buffer vectors)\n",
        "\n",
        "ii) select one data point as list2 (without replacement , hidden data point)\n",
        "\n",
        "iii) find the cosine similarities between list_1 and list_2 and store them in list_3"
      ],
      "metadata": {
        "id": "ZV_9tA29mjJs"
      }
    },
    {
      "cell_type": "code",
      "source": [
        "import numpy as np\n",
        "\n",
        "# i) choose 3 samples (store it in list_1)\n",
        "indices = np.random.choice(X_new.shape[0], 3, replace=False)\n",
        "list_1 = X_new[indices]\n",
        "\n",
        "# ii) choose 1 sample (store it in list_2) --------> ( Unknown data point )\n",
        "index = np.random.choice(X_new.shape[0], 1, replace=False)[0]\n",
        "list_2 = X_new[index]\n",
        "print(\"Indices for three samples:\", indices)\n",
        "print(\"Three samples (list_1):\\n\", list_1)\n",
        "print(\"\\nIndex for one sample:\", index)\n",
        "print(\"One sample (list_2):\\n\", list_2)\n",
        "\n",
        "#Normalize buffer points(list_1) and make them unit vector\n",
        "axes = np.array([v / np.linalg.norm(v) for v in list_1])\n",
        "\n",
        "norm_list_2 = np.linalg.norm(list_2)\n",
        "\n",
        "# iii) compute cosine similarity between list_2(unknown data point) with each row in list_1\n",
        "list_3 = np.array([\n",
        "    np.dot(row, list_2) / (np.linalg.norm(row) * norm_list_2)\n",
        "    for row in list_1\n",
        "])\n",
        "\n",
        "print(\"\\nCosine similarities (list_3):\\n\", list_3)"
      ],
      "metadata": {
        "colab": {
          "base_uri": "https://localhost:8080/"
        },
        "id": "t46yjsD4nBLP",
        "outputId": "2edb5e85-f53b-4c39-fb9c-192659f7f70b"
      },
      "execution_count": 3,
      "outputs": [
        {
          "output_type": "stream",
          "name": "stdout",
          "text": [
            "Indices for three samples: [  6   7 271]\n",
            "Three samples (list_1):\n",
            " [[  1 147  92]\n",
            " [  1 154 111]\n",
            " [  1 152 103]]\n",
            "\n",
            "Index for one sample: 176\n",
            "One sample (list_2):\n",
            " [ -1 170 102]\n",
            "\n",
            "Cosine similarities (list_3):\n",
            " [0.99976503 0.99641122 0.99842542]\n"
          ]
        }
      ]
    },
    {
      "cell_type": "markdown",
      "source": [
        "**Step_2**\n",
        "\n",
        "i) define a function name as \"compute_direction\"\n",
        "\n",
        "input - list1 , list3\n",
        "\n",
        "output - direction of the intersection\n",
        "\n",
        "**This function will give a Unit vector as an output which is nothing but the direction of intersection between three buffer points**"
      ],
      "metadata": {
        "id": "IbIw5IdpsOkg"
      }
    },
    {
      "cell_type": "code",
      "source": [
        "import numpy as np\n",
        "from itertools import product\n",
        "\n",
        "def compute_direction(axes, list_3):\n",
        "    \"\"\"\n",
        "    Compute the intersection direction of three cones.\n",
        "\n",
        "    Args:\n",
        "        list_1 (ndarray): shape (3, d). The three axis vectors (d = dimension, here 3).\n",
        "        list_3 (ndarray): shape (3,). Cosine similarity values = cos(theta_i).\n",
        "        tol (float): tolerance for unit norm check.\n",
        "\n",
        "    Returns:\n",
        "        direction (ndarray): a valid unit direction vector (if found).\n",
        "    \"\"\"\n",
        "\n",
        "    # Step 1: Get matrix A as the normalized vector of list_1\n",
        "    A = axes\n",
        "\n",
        "    #step-2\n",
        "    # Only for all positive and all negative sign combinations\n",
        "    sign_combos = np.array([[1,1,1], [-1,-1,-1]])\n",
        "\n",
        "    for signs in sign_combos:\n",
        "        s = np.array(signs)\n",
        "        b_s = s * list_3\n",
        "\n",
        "        # Solve A u = b_s\n",
        "        try:\n",
        "            u = np.linalg.solve(A, b_s)\n",
        "        except np.linalg.LinAlgError:\n",
        "            continue  # skip if singular\n",
        "\n",
        "        # Step 4: Check if u is unit vector (≈ 1)\n",
        "        norm_u = np.linalg.norm(u)\n",
        "\n",
        "        if round(norm_u, 10) == 1.0:\n",
        "          return u # return the first valid direction\n",
        "\n",
        "    raise ValueError(\"No valid unit direction found for given inputs.\")"
      ],
      "metadata": {
        "id": "kuLZdfKxsuZr"
      },
      "execution_count": 4,
      "outputs": []
    },
    {
      "cell_type": "code",
      "source": [
        "# find the direction\n",
        "# pass axes (normalized vector of list_1) and list_3\n",
        "direction = compute_direction(axes , list_3)\n",
        "print(\"Intersection direction vector:\\n\", direction)\n"
      ],
      "metadata": {
        "colab": {
          "base_uri": "https://localhost:8080/"
        },
        "id": "-r_Mvg4bxICz",
        "outputId": "23f2245b-e9ce-4558-c3a5-25b0814f8bea"
      },
      "execution_count": 5,
      "outputs": [
        {
          "output_type": "stream",
          "name": "stdout",
          "text": [
            "Intersection direction vector:\n",
            " [-0.00504401  0.85748202  0.51448921]\n"
          ]
        }
      ]
    },
    {
      "cell_type": "markdown",
      "source": [
        "**Phase - 2**"
      ],
      "metadata": {
        "id": "lfdojI-H7UlE"
      }
    },
    {
      "cell_type": "markdown",
      "source": [
        "**Step_3**\n",
        "\n",
        "i) Get the direction in form of(x_1 , x_2 , x_3) , so make it (x_1/x_1 , x_2/x_1 , x_3/x-1)\n",
        "\n",
        "ii) direction_new = (x_1/x_1 , x_2/x_1 , x_3/x_1)\n",
        "\n",
        "ii) now compare direction new to normlized list_2 vector"
      ],
      "metadata": {
        "id": "61MCw9URyDhV"
      }
    },
    {
      "cell_type": "code",
      "source": [
        "x1, x2, x3 = direction\n",
        "\n",
        "direction_new = np.array([x1 / x1, x2 / x1, x3 / x1])\n",
        "\n",
        "if(direction_new[1]<0 and direction_new[2]<0):\n",
        "  direction_new = -1*direction_new\n",
        "\n",
        "print(\"direction_new:\", direction_new)"
      ],
      "metadata": {
        "colab": {
          "base_uri": "https://localhost:8080/"
        },
        "id": "LD8V_MEmzmmG",
        "outputId": "851192a6-bbd5-4c31-91a0-d90b76228930"
      },
      "execution_count": 6,
      "outputs": [
        {
          "output_type": "stream",
          "name": "stdout",
          "text": [
            "direction_new: [ -1.         169.99999983 101.9999999 ]\n"
          ]
        }
      ]
    },
    {
      "cell_type": "code",
      "source": [
        "# check if reconstructed vector from the direction vector(unit norm) is same as the unknown data point or not\n",
        "\n",
        "if np.array_equal(np.round(direction_new, 5), np.round(list_2, 5)):\n",
        "  print(\"The reconstructed data point is same as hidden data point\")"
      ],
      "metadata": {
        "colab": {
          "base_uri": "https://localhost:8080/"
        },
        "id": "5prsZdE0lgcZ",
        "outputId": "de4914a7-01e0-483d-a239-b03478be6a1b"
      },
      "execution_count": 7,
      "outputs": [
        {
          "output_type": "stream",
          "name": "stdout",
          "text": [
            "The reconstructed data point is same as hidden data point\n"
          ]
        }
      ]
    }
  ]
}